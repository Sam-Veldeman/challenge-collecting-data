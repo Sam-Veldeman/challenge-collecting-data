{
 "cells": [
  {
   "cell_type": "code",
   "execution_count": 8,
   "metadata": {},
   "outputs": [
    {
     "name": "stdout",
     "output_type": "stream",
     "text": [
      "                             Type             details\n",
      "0                   property.type               HOUSE\n",
      "1                property.subtype  MIXED_USE_BUILDING\n",
      "2           property.bedroomCount                   6\n",
      "3      property.location.locality                Gent\n",
      "4          property.location.type                None\n",
      "5    property.netHabitableSurface                 295\n",
      "6       property.basement.surface                None\n",
      "7     property.building.condition          TO_RESTORE\n",
      "8   property.building.facadeCount                   3\n",
      "9        property.kitchen.surface                None\n",
      "10          property.kitchen.type       SEMI_EQUIPPED\n",
      "11          property.land.surface                 365\n",
      "12    property.livingRoom.surface                  90\n",
      "13       property.hasSwimmingPool                None\n",
      "14       property.fireplaceExists                True\n",
      "15            property.hasTerrace                True\n",
      "16               transaction.type            FOR_SALE\n",
      "17            transaction.subtype         BUY_REGULAR\n",
      "18   transaction.sale.isFurnished                None\n",
      "19                     price.type    residential_sale\n",
      "20                price.mainValue              495000\n"
     ]
    }
   ],
   "source": [
    "import requests\n",
    "import re\n",
    "from bs4 import BeautifulSoup\n",
    "import json\n",
    "import pandas as pd\n",
    "\n",
    "def get_property():\n",
    "    # Make a GET request to fetch the HTML content of the page\n",
    "    url = \"https://www.immoweb.be/en/classified/mixed-use-building/for-sale/gent/9000/10655537\"  # Replace with the URL of the page containing the data\n",
    "    response = requests.get(url)\n",
    "    html_content = response.text\n",
    "    # Parse the HTML content using BeautifulSoup\n",
    "    soup = BeautifulSoup(html_content, \"lxml\")\n",
    "    # Find the script tag containing the desired data\n",
    "    script_tag = soup.find(\"script\", string=lambda text: text and \"window.classified\" in text)\n",
    "    if script_tag:\n",
    "        # Extract the data within the script tag\n",
    "        script_content = script_tag.string.strip()\n",
    "        # Remove the \"window.classified =\" prefix and removing all the whitespace and clutter in the suffix to get only the dictionary to parse into the JSON_data.\n",
    "        pattern = r\"window\\.classified = ({.*?});\"\n",
    "        match = re.search(pattern, script_content)\n",
    "    if match:\n",
    "        json_data = match.group(1)\n",
    "        # Load the JSON data into a dictionary\n",
    "        house_dict = json.loads(json_data)\n",
    "        # Clean the data in the dictionary by key values\n",
    "        keys_to_delete = [\"cluster\", \"customers\", \"features\", \"premiumProjectPage\", \"media\", \"alternativeDescriptions\", \"hasSectionsArray\", \"displayFlags\"]\n",
    "        house_dict = {key: value for key, value in house_dict.items() if key not in keys_to_delete}\n",
    "        \n",
    "    return house_dict\n",
    "# Function to itterate over all nested dictionaries in house_dict\n",
    "def extract_nested_values(data, keys_to_extract, prefix=\"\"):\n",
    "    results = []\n",
    "    if isinstance(data, dict):\n",
    "        for key, value in data.items():\n",
    "            new_prefix = f\"{prefix}.{key}\" if prefix else key\n",
    "            if key in keys_to_extract:\n",
    "                results.append((new_prefix, value))\n",
    "            results.extend(extract_nested_values(value, keys_to_extract, prefix=new_prefix))\n",
    "    return results\n",
    "house_dict = get_property()\n",
    "# Multiple \"type\" keys in the dictionary\n",
    "kitchen_type = house_dict['property']['kitchen']['type']\n",
    "#list of key values for the excercise asignment\n",
    "list_key_values =[\n",
    "    \"locality\", \"type\", \"subtype\", \"mainValue\", \"type_of_sale\", \"bedroomCount\",\n",
    "    \"netHabitableSurface\", kitchen_type, \"isFurnished\",\"fireplaceExists\", \"hasTerrace\",\n",
    "    \"hasgarden\", \"surface\", \"facadeCount\", \"hasSwimmingPool\",\"condition\"]\n",
    "key_values = extract_nested_values(house_dict, list_key_values)\n",
    "\n",
    "house_details_df = pd.DataFrame(key_values, columns=[\"Type\", \"details\"])\n",
    "house_details_df.to_csv(\"data/house_details.csv\", index=False)\n",
    "print(house_details_df)\n",
    "\n",
    "\n",
    "#print(house_dict)"
   ]
  }
 ],
 "metadata": {
  "kernelspec": {
   "display_name": "Python 3",
   "language": "python",
   "name": "python3"
  },
  "language_info": {
   "codemirror_mode": {
    "name": "ipython",
    "version": 3
   },
   "file_extension": ".py",
   "mimetype": "text/x-python",
   "name": "python",
   "nbconvert_exporter": "python",
   "pygments_lexer": "ipython3",
   "version": "3.9.5"
  },
  "orig_nbformat": 4
 },
 "nbformat": 4,
 "nbformat_minor": 2
}
