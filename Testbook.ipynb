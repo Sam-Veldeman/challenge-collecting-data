{
 "cells": [
  {
   "cell_type": "code",
   "execution_count": 10,
   "metadata": {},
   "outputs": [
    {
     "ename": "SyntaxError",
     "evalue": "invalid syntax (3083491454.py, line 11)",
     "output_type": "error",
     "traceback": [
      "\u001b[1;36m  Cell \u001b[1;32mIn[10], line 11\u001b[1;36m\u001b[0m\n\u001b[1;33m    data_from_print[data] = .append(data.get_text())\u001b[0m\n\u001b[1;37m                            ^\u001b[0m\n\u001b[1;31mSyntaxError\u001b[0m\u001b[1;31m:\u001b[0m invalid syntax\n"
     ]
    }
   ],
   "source": [
    "import requests, re, json\n",
    "from bs4 import BeautifulSoup\n",
    "from pathlib import Path\n",
    "root_url = \"https://www.immoweb.be\"\n",
    "web_url = \"https://www.immoweb.be/en/classified/mixed-use-building/for-sale/gent/9000/10655537\"\n",
    "print_url = \"https://www.immoweb.be/en/print/10655537\"\n",
    "cookie = requests.get(print_url).cookies\n",
    "soup = BeautifulSoup(requests.get(print_url, cookies=cookie).text).json()\n",
    "data_from_print = {}\n",
    "for data in soup.find_all(\"span\"):\n",
    "    data_from_print[data] = .append(data.get_text())\n",
    "print(data_from_print)\n",
    "\n",
    "#if resp == \"<Response [200]>\":\n",
    "#    print ('OK!')\n",
    "#else:\n",
    "#    print ('Boo!')"
   ]
  }
 ],
 "metadata": {
  "kernelspec": {
   "display_name": ".venv",
   "language": "python",
   "name": "python3"
  },
  "language_info": {
   "codemirror_mode": {
    "name": "ipython",
    "version": 3
   },
   "file_extension": ".py",
   "mimetype": "text/x-python",
   "name": "python",
   "nbconvert_exporter": "python",
   "pygments_lexer": "ipython3",
   "version": "3.11.4"
  },
  "orig_nbformat": 4
 },
 "nbformat": 4,
 "nbformat_minor": 2
}
