{
 "cells": [
  {
   "cell_type": "code",
   "execution_count": 2,
   "metadata": {},
   "outputs": [
    {
     "name": "stdout",
     "output_type": "stream",
     "text": [
      "{'id': 10655537, 'flags': {'isPublicSale': False, 'isNewClassified': True, 'isNewPrice': False, 'isInvestmentProject': False, 'isNewlyBuilt': False, 'isNotarySale': None, 'isLifeAnnuitySale': False, 'adQuality': None, 'date': None, 'priceSqm': None, 'price': None, 'default': None, 'isSoldOrRented': False, 'isLowEnergy': None, 'percentSold': None, 'isPassiveHouse': None, 'isNewRealEstateProject': False, 'isAnInteractiveSale': None, 'isUnderOption': False}, 'property': {'type': 'HOUSE', 'subtype': 'MIXED_USE_BUILDING', 'title': '3 appartementen (renovatie)', 'description': 'Sorry, there is no English translation. Deze verkoop betreft 3 appartementen in deze residentie en omvat de volledige tweede verdieping. De appartementen dienen aangepast te worden naar de hedendaagse normen, maar beschikken over een potentieel voor investeerders.   Het totale aandeel in mede-eigendom betreft 95/300sten. Elk appartement beschikt over een inkomhal, keuken, badkamer, twee slaapkamers. Twee van de drie appartementen zijn verhuurd en beschikken over een terras.  De ligging is gunstig, op 150m van het Station Dampoort, vlakbij openbaar vervoer en op slechts enkele minuten fietsen van het centrum van Gent. De aankoop van één afzonderlijk appartement kan overwogen worden. De EPC-scores hebben label F (523- 556 - 733). Attesten ele.', 'name': None, 'isHolidayProperty': None, 'bedroomCount': 6, 'bedrooms': [], 'bathroomCount': 3, 'bathrooms': [], 'location': {'country': 'Belgium', 'region': 'Flanders', 'province': 'East Flanders', 'district': 'Gent', 'locality': 'Gent', 'postalCode': '9000', 'street': 'Engelbert van Arenbergstraat', 'number': '28 + 30', 'box': None, 'propertyName': None, 'floor': None, 'latitude': 51.0576946, 'longitude': 3.744686, 'distance': None, 'approximated': None, 'regionCode': 'FLANDERS', 'type': None, 'hasSeaView': None, 'pointsOfInterest': [{'type': 'SCHOOL', 'distance': -1}, {'type': 'SHOPS', 'distance': -1}, {'type': 'TRANSPORT', 'distance': -1}], 'placeName': None}, 'netHabitableSurface': 295, 'roomCount': None, 'monthlyCosts': None, 'attic': None, 'hasAttic': None, 'basement': {'surface': None}, 'hasBasement': True, 'hasDressingRoom': None, 'diningRoom': None, 'hasDiningRoom': None, 'building': {'annexCount': None, 'condition': 'TO_RESTORE', 'constructionYear': 1963, 'facadeCount': 3, 'floorCount': None, 'streetFacadeWidth': None}, 'propertyCertificates': {'builtPlanStatus': 'NO', 'globalInsulationLevel': None, 'oilTankCertificateStatus': None, 'primaryEnergyConsumptionLevel': 0}, 'hasCaretakerOrConcierge': None, 'hasDisabledAccess': None, 'hasLift': None, 'constructionPermit': {'constructionType': None, 'floodZoneType': 'NON_FLOOD_ZONE', 'isObtained': True, 'hasObligationToConstruct': None, 'hasPlotDivisionAuthorization': None, 'hasPossiblePriorityPurchaseRight': False, 'isBreachingUrbanPlanningRegulation': None, 'floodZoneIconUrl': None, 'totalBuildableGroundFloorSurface': 0, 'urbanPlanningInformation': None}, 'energy': {'heatingType': 'GAS', 'hasHeatPump': None, 'hasPhotovoltaicPanels': None, 'hasThermicPanels': None, 'hasCollectiveWaterHeater': None, 'hasDoubleGlazing': True, 'performance': None}, 'kitchen': {'surface': None, 'type': 'SEMI_EQUIPPED', 'hasOven': None, 'hasMicroWaveOven': None, 'hasDishwasher': None, 'hasWashingMachine': None, 'hasFridge': None, 'hasFreezer': None, 'hasSteamOven': None}, 'land': {'hasGasWaterElectricityConnection': True, 'hasPlotToRear': None, 'isFacingStreet': None, 'isFlat': None, 'isWooded': None, 'landWidth': 26.5, 'latestUseDesignation': 'RES', 'rearLand': None, 'sewerConnection': None, 'surface': 365}, 'laundryRoom': None, 'hasLaundryRoom': None, 'livingRoom': {'surface': 90}, 'hasLivingRoom': True, 'isFirstOccupation': None, 'hasBalcony': None, 'hasBarbecue': None, 'hasGarden': None, 'gardenSurface': None, 'gardenOrientation': None, 'parkingCountIndoor': None, 'parkingCountOutdoor': None, 'parkingCountClosedBox': None, 'hasAirConditioning': None, 'hasArmoredDoor': None, 'hasVisiophone': None, 'hasSecureAccessAlarm': None, 'hasCableTV': None, 'hasDoorPhone': None, 'hasInternet': None, 'showerRoomCount': 0, 'showerRooms': [], 'specificities': None, 'toiletCount': 3, 'toilets': [], 'hasFitnessRoom': None, 'hasTennisCourt': None, 'hasSwimmingPool': None, 'hasSauna': None, 'hasJacuzzi': None, 'hasHammam': None, 'bedroomSurface': None, 'alternativeDescriptions': {'fr': \"Désolé il n'y a pas de traduction française. Deze verkoop betreft 3 appartementen in deze residentie en omvat de volledige tweede verdieping. De appartementen dienen aangepast te worden naar de hedendaagse normen, maar beschikken over een potentieel voor investeerders.   Het totale aandeel in mede-eigendom betreft 95/300sten. Elk appartement beschikt over een inkomhal, keuken, badkamer, twee slaapkamers. Twee van de drie appartementen zijn verhuurd en beschikken over een terras.  De ligging is gunstig, op 150m van het Station Dampoort, vlakbij openbaar vervoer en op slechts enkele minuten fietsen van het centrum van Gent. De aankoop van één afzonderlijk appartement kan overwogen worden. De EPC-scores hebben label F (523- 556 - 733). Atteste.\", 'nl': 'Deze verkoop betreft 3 appartementen in deze residentie en omvat de volledige tweede verdieping. De appartementen dienen aangepast te worden naar de hedendaagse normen, maar beschikken over een potentieel voor investeerders.   Het totale aandeel in mede-eigendom betreft 95/300sten. Elk appartement beschikt over een inkomhal, keuken, badkamer, twee slaapkamers. Twee van de drie appartementen zijn verhuurd en beschikken over een terras.  De ligging is gunstig, op 150m van het Station Dampoort, vlakbij openbaar vervoer en op slechts enkele minuten fietsen van het centrum van Gent. De aankoop van één afzonderlijk appartement kan overwogen worden. De EPC-scores hebben label F (523- 556 - 733). Attesten elektrische keuring zijn niet voorhanden (wvoorhanden (wegens renovatie). Wenst u meer informatie of een bezoek, contacteer de Fooz Vastgoed op het nummer 09/225.00.78.    Ref : 63646'}, 'habitableUnitCount': None, 'fireplaceCount': -1, 'fireplaceExists': True, 'hasTerrace': True, 'terraceSurface': 6, 'terraceOrientation': None}, 'publication': {'creationDate': '2023-06-23T17:37:53.000+0000', 'expirationDate': '2023-10-30T22:00:00.000+0000', 'publisherId': None, 'visualisationOption': 'XL', 'lastModificationDate': '2023-06-28T22:17:45.240+0000'}, 'transaction': {'type': 'FOR_SALE', 'subtype': 'BUY_REGULAR', 'availabilityPeriodType': None, 'availabilityDate': None, 'certificates': {'carbonEmission': 0, 'hasElectricalInstallationComplianceCertificate': None, 'primaryEnergyConsumptionPerSqm': 523, 'primaryEnergyConsumptionYearly': None, 'epcDescription': None, 'epcReference': '2923610-RES-1', 'epcScore': 'F', 'epcUrl': 'https://static.immoweb.be/pics/peb/fla/f.png'}, 'rental': None, 'sale': {'price': 495000, 'isSubjectToVat': False, 'cadastralIncome': 2414, 'publicSale': None, 'pricePerSqm': None, 'oldPrice': None, 'lifeAnnuity': None, 'hasStartingPrice': False, 'isFurnished': None, 'homeToBuild': None}, 'investor': {'isInvestmentProperty': True, 'currentMonthlyRentalIncome': None, 'currentReturnOnInvestment': None, 'expectedMonthlyRentalIncome': None, 'expectedMonthlyRentalIncomeDescription': None, 'expectedReturnOnInvestment': None, 'habitableUnitCount': None, 'occupancyRate': None}}, 'priceType': None, 'price': {'type': 'residential_sale', 'mainValue': 495000, 'alternativeValue': None, 'additionalValue': None, 'oldValue': None, 'minRangeValue': None, 'maxRangeValue': None, 'mainDisplayPrice': '€495,000', 'HTMLDisplayPrice': '<span aria-hidden=\"true\">€495,000</span>', 'alternativeDisplayPrice': '', 'oldDisplayPrice': None, 'shortDisplayPrice': '€495K', 'accessibilityPrice': '495000€', 'label': 'Price', 'date': None, 'language': 'en'}, 'externalReference': '63646 - 1611', 'isBookmarked': False, 'unitGroupings': [], 'statistics': {'bookmarkCount': 7, 'viewCount': 714, 'alertPrice': None, 'creationDate': None, 'description': None, 'isAlertEmailSet': None, 'rating': None, 'wasOwnerContacted': None, 'wasPropertyVisited': None}}\n",
      "[('property.type', 'HOUSE'), ('property.subtype', 'MIXED_USE_BUILDING'), ('property.bedroomCount', 6), ('property.location.locality', 'Gent'), ('property.location.type', None), ('property.netHabitableSurface', 295), ('property.basement.surface', None), ('property.building.condition', 'TO_RESTORE'), ('property.building.facadeCount', 3), ('property.kitchen.surface', None), ('property.kitchen.type', 'SEMI_EQUIPPED'), ('property.land.surface', 365), ('property.livingRoom.surface', 90), ('property.hasSwimmingPool', None), ('property.fireplaceExists', True), ('property.hasTerrace', True), ('transaction.type', 'FOR_SALE'), ('transaction.subtype', 'BUY_REGULAR'), ('transaction.sale.isFurnished', None), ('price.type', 'residential_sale'), ('price.mainValue', 495000)]\n"
     ]
    }
   ],
   "source": [
    "import requests\n",
    "import re\n",
    "from bs4 import BeautifulSoup\n",
    "import json\n",
    "\n",
    "def get_property():\n",
    "    # Make a GET request to fetch the HTML content of the page\n",
    "    url = \"https://www.immoweb.be/en/classified/mixed-use-building/for-sale/gent/9000/10655537\"  # Replace with the URL of the page containing the data\n",
    "    response = requests.get(url)\n",
    "    html_content = response.text\n",
    "    # Parse the HTML content using BeautifulSoup\n",
    "    soup = BeautifulSoup(html_content, \"lxml\")\n",
    "    # Find the script tag containing the desired data\n",
    "    script_tag = soup.find(\"script\", string=lambda text: text and \"window.classified\" in text)\n",
    "    if script_tag:\n",
    "        # Extract the data within the script tag\n",
    "        script_content = script_tag.string.strip()\n",
    "        # Remove the \"window.classified =\" prefix and removing all the whitespace and clutter in the suffix to get only the dictionary to parse into the JSON_data.\n",
    "        pattern = r\"window\\.classified = ({.*?});\"\n",
    "        match = re.search(pattern, script_content)\n",
    "    if match:\n",
    "        json_data = match.group(1)\n",
    "        # Load the JSON data into a dictionary\n",
    "        house_dict = json.loads(json_data)\n",
    "        # Clean the data in the dictionary by key values\n",
    "        keys_to_delete = [\"cluster\", \"customers\", \"features\", \"premiumProjectPage\", \"media\", \"alternativeDescriptions\", \"hasSectionsArray\", \"displayFlags\"]\n",
    "        house_dict = {key: value for key, value in house_dict.items() if key not in keys_to_delete}\n",
    "    return house_dict\n",
    "# Function to itterate over all nested dictionaries in house_dict\n",
    "def extract_nested_values(data, keys_to_extract, prefix=\"\"):\n",
    "    results = []\n",
    "    if isinstance(data, dict):\n",
    "        for key, value in data.items():\n",
    "            new_prefix = f\"{prefix}.{key}\" if prefix else key\n",
    "            if key in keys_to_extract:\n",
    "                results.append((new_prefix, value))\n",
    "            results.extend(extract_nested_values(value, keys_to_extract, prefix=new_prefix))\n",
    "    return results\n",
    "house_dict = get_property()\n",
    "# Multiple \"type\" keys in the dictionary\n",
    "kitchen_type = house_dict['property']['kitchen']['type']\n",
    "#list of key values for the excercise asignment\n",
    "list_key_values =[\n",
    "    \"locality\", \"type\", \"subtype\", \"mainValue\", \"type_of_sale\", \"bedroomCount\",\n",
    "    \"netHabitableSurface\", kitchen_type, \"isFurnished\",\"fireplaceExists\", \"hasTerrace\",\n",
    "    \"hasgarden\", \"surface\", \"facadeCount\", \"hasSwimmingPool\",\"condition\"]\n",
    "key_values = extract_nested_values(house_dict, list_key_values)\n",
    "print(house_dict)\n",
    "print(key_values)"
   ]
  }
 ],
 "metadata": {
  "kernelspec": {
   "display_name": ".venv",
   "language": "python",
   "name": "python3"
  },
  "language_info": {
   "codemirror_mode": {
    "name": "ipython",
    "version": 3
   },
   "file_extension": ".py",
   "mimetype": "text/x-python",
   "name": "python",
   "nbconvert_exporter": "python",
   "pygments_lexer": "ipython3",
   "version": "3.11.4"
  },
  "orig_nbformat": 4
 },
 "nbformat": 4,
 "nbformat_minor": 2
}
