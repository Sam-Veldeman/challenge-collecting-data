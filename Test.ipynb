{
 "cells": [
  {
   "cell_type": "code",
   "execution_count": 7,
   "metadata": {},
   "outputs": [
    {
     "name": "stdout",
     "output_type": "stream",
     "text": [
      "[('property.type', 'HOUSE'), ('property.subtype', 'MIXED_USE_BUILDING'), ('property.bedroomCount', 6), ('property.location.locality', 'Gent'), ('property.location.type', None), ('property.netHabitableSurface', 295), ('property.basement.surface', None), ('property.building.condition', 'TO_RESTORE'), ('property.building.facadeCount', 3), ('property.kitchen.surface', None), ('property.kitchen.type', 'SEMI_EQUIPPED'), ('property.land.surface', 365), ('property.livingRoom.surface', 90), ('property.hasSwimmingPool', None), ('property.fireplaceExists', True), ('property.hasTerrace', True), ('transaction.type', 'FOR_SALE'), ('transaction.subtype', 'BUY_REGULAR'), ('transaction.sale.isFurnished', None), ('price.type', 'residential_sale'), ('price.mainValue', 495000)]\n"
     ]
    }
   ],
   "source": [
    "import requests\n",
    "import re\n",
    "from bs4 import BeautifulSoup\n",
    "import json\n",
    "\n",
    "def get_property():\n",
    "    # Make a GET request to fetch the HTML content of the page\n",
    "    url = \"https://www.immoweb.be/en/classified/mixed-use-building/for-sale/gent/9000/10655537\"  # Replace with the URL of the page containing the data\n",
    "    response = requests.get(url)\n",
    "    html_content = response.text\n",
    "    # Parse the HTML content using BeautifulSoup\n",
    "    soup = BeautifulSoup(html_content, \"lxml\")\n",
    "    # Find the script tag containing the desired data\n",
    "    script_tag = soup.find(\"script\", string=lambda text: text and \"window.classified\" in text)\n",
    "    if script_tag:\n",
    "        # Extract the data within the script tag\n",
    "        script_content = script_tag.string.strip()\n",
    "        # Remove the \"window.classified =\" prefix and removing all the whitespace and clutter in the suffix to get only the dictionary to parse into the JSON_data.\n",
    "        pattern = r\"window\\.classified = ({.*?});\"\n",
    "        match = re.search(pattern, script_content)\n",
    "    if match:\n",
    "        json_data = match.group(1)\n",
    "        # Load the JSON data into a dictionary\n",
    "        house_dict = json.loads(json_data)\n",
    "        # Clean the data in the dictionary by key values\n",
    "        keys_to_delete = [\"cluster\", \"customers\", \"features\", \"premiumProjectPage\", \"media\", \"alternativeDescriptions\", \"hasSectionsArray\", \"displayFlags\"]\n",
    "        house_dict = {key: value for key, value in house_dict.items() if key not in keys_to_delete}\n",
    "    return house_dict\n",
    "# Function to itterate over all nested dictionaries in house_dict\n",
    "def extract_nested_values(data, keys_to_extract, prefix=\"\"):\n",
    "    results = []\n",
    "    if isinstance(data, dict):\n",
    "        for key, value in data.items():\n",
    "            new_prefix = f\"{prefix}.{key}\" if prefix else key\n",
    "            if key in keys_to_extract:\n",
    "                results.append((new_prefix, value))\n",
    "            results.extend(extract_nested_values(value, keys_to_extract, prefix=new_prefix))\n",
    "    return results\n",
    "house_dict = get_property()\n",
    "\n",
    "# Multiple \"type\" keys in the dictionary\n",
    "kitchen_type = house_dict['property']['kitchen']['type']\n",
    "#list of key values for the excercise asignment\n",
    "list_key_values =[\n",
    "    \"locality\", \"type\", \"subtype\", \"mainValue\", \"type_of_sale\", \"bedroomCount\",\n",
    "    \"netHabitableSurface\", kitchen_type, \"isFurnished\",\"fireplaceExists\", \"hasTerrace\",\n",
    "    \"hasgarden\", \"surface\", \"facadeCount\", \"hasSwimmingPool\",\"condition\"]\n",
    "key_values = extract_nested_values(house_dict, list_key_values)\n",
    "print(key_values)"
   ]
  }
 ],
 "metadata": {
  "kernelspec": {
   "display_name": ".venv",
   "language": "python",
   "name": "python3"
  },
  "language_info": {
   "codemirror_mode": {
    "name": "ipython",
    "version": 3
   },
   "file_extension": ".py",
   "mimetype": "text/x-python",
   "name": "python",
   "nbconvert_exporter": "python",
   "pygments_lexer": "ipython3",
   "version": "3.11.4"
  },
  "orig_nbformat": 4
 },
 "nbformat": 4,
 "nbformat_minor": 2
}
